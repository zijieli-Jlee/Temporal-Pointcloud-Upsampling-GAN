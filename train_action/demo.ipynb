{
 "cells": [
  {
   "cell_type": "code",
   "execution_count": 1,
   "id": "7a34fbfc-3e9a-4b72-94ab-62e0dc9926e6",
   "metadata": {},
   "outputs": [
    {
     "name": "stderr",
     "output_type": "stream",
     "text": [
      "INFO - 2022-04-25 00:45:44,024 - utils - Note: NumExpr detected 12 cores but \"NUMEXPR_MAX_THREADS\" not set, so enforcing safe limit of 8.\n",
      "INFO - 2022-04-25 00:45:44,024 - utils - NumExpr defaulting to 8 threads.\n",
      "Using backend: pytorch\n"
     ]
    }
   ],
   "source": [
    "import sys\n",
    "import os\n",
    "import numpy as np\n",
    "import torch\n",
    "sys.path.append(os.path.join('../',os.path.dirname(os.path.abspath(''))))\n",
    "from utils import load_checkpoint, save_checkpoint\n",
    "from train_utils import visualize_pointcloud, dump_pointcloud_visualization\n",
    "from upsampling_network import NoMaskSRNet\n",
    "from msr_dataset import get_test_dataloader, MSRAction3D"
   ]
  },
  {
   "cell_type": "code",
   "execution_count": 3,
   "id": "a7e7d43e-6c2d-4a57-a98c-b57e73083050",
   "metadata": {},
   "outputs": [
    {
     "name": "stdout",
     "output_type": "stream",
     "text": [
      " [*] Loading checkpoint from ./train_dir/tpugan_checkpoint.ckpt succeed!\n",
      "last checkpoint restored\n"
     ]
    }
   ],
   "source": [
    "path_to_resume = './train_dir/tpugan_checkpoint.ckpt'\n",
    "ckpt = load_checkpoint(path_to_resume)\n",
    "sr_net = NoMaskSRNet(3, 128, 16)\n",
    "sr_net.load_state_dict(ckpt['sr_net'])\n",
    "print(\"last checkpoint restored\")\n",
    "\n",
    "sr_net = sr_net.cuda()\n",
    "sr_net = sr_net.eval()\n",
    "    # # # # #\n",
    "dataset = MSRAction3D(root='../data/MSR-Action3D', frames_per_clip=24, train=False, num_points=2048)\n",
    "dat_loader = get_test_dataloader(dataset)\n",
    "sample_dir = 'action_test'\n",
    "os.makedirs(sample_dir, exist_ok=True)\n",
    "dat_iter = iter(dat_loader)\n",
    "\n",
    "# generate some sequences\n",
    "for i in range(10):\n",
    "    dat = next(dat_iter)\n",
    "\n",
    "    highres_pos_lst, lowres_pos_lst, c_lst,  label_lst = dat\n",
    "    pred_pos_arr = []\n",
    "    for l in range(len(highres_pos_lst)):\n",
    "        lowres_pos = lowres_pos_lst[l]\n",
    "        offset = c_lst[l]\n",
    "        lowres_pos = lowres_pos.cuda()\n",
    "        feature = lowres_pos\n",
    "        with torch.no_grad():\n",
    "            pred, _ = sr_net(feature, lowres_pos)\n",
    "        pred += offset.view(-1, 1, 3).cuda()\n",
    "        pred_pos_arr += [pred.cpu().numpy()[None, ...]]\n",
    "    pred_pos_arr = np.concatenate(pred_pos_arr, axis=0)  # [24, 8, 2048, 3]\n",
    "    pred_pos_arr = np.transpose(pred_pos_arr, axes=(1, 0, 2, 3))\n",
    "\n",
    "    for b in range(label_lst.shape[0]):\n",
    "        np.savez(os.path.join(sample_dir, f'pcd_{8*i+b}.npz'), pred=pred_pos_arr[b])"
   ]
  },
  {
   "cell_type": "markdown",
   "id": "548f8c31-04cf-4cc8-81d8-8310060b3dd3",
   "metadata": {},
   "source": [
    "### Write the data as .bgeo for visualization/rendering\n",
    "(requires installing partio: https://github.com/wdas/partio)"
   ]
  },
  {
   "cell_type": "code",
   "execution_count": null,
   "id": "44d018ad-d7e0-4ea9-ab37-e0cf525db05c",
   "metadata": {},
   "outputs": [],
   "source": [
    "import numpy as np\n",
    "import os\n",
    "from analysis_helper import write_bgeo_from_numpy\n",
    "\n",
    "out_dir = 'action_test'\n",
    "for i in range(80):\n",
    "    pos_np = np.load(f'./action_test/pcd_{i}.npy')\n",
    "    bgeo_pth = os.path.join(out_dir, 'pcd_{0:04d}.bgeo'.format(i))\n",
    "    write_bgeo_from_numpy(bgeo_pth, pos_np)"
   ]
  }
 ],
 "metadata": {
  "kernelspec": {
   "display_name": "Python 3 (ipykernel)",
   "language": "python",
   "name": "python3"
  },
  "language_info": {
   "codemirror_mode": {
    "name": "ipython",
    "version": 3
   },
   "file_extension": ".py",
   "mimetype": "text/x-python",
   "name": "python",
   "nbconvert_exporter": "python",
   "pygments_lexer": "ipython3",
   "version": "3.7.12"
  }
 },
 "nbformat": 4,
 "nbformat_minor": 5
}
