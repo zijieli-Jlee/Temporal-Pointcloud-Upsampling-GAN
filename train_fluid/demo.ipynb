{
 "cells": [
  {
   "cell_type": "code",
   "execution_count": 1,
   "id": "975712a4-f7c0-41d7-9f62-549a956e90c7",
   "metadata": {},
   "outputs": [
    {
     "name": "stderr",
     "output_type": "stream",
     "text": [
      "INFO - 2022-04-24 18:26:30,976 - utils - Note: NumExpr detected 12 cores but \"NUMEXPR_MAX_THREADS\" not set, so enforcing safe limit of 8.\n",
      "INFO - 2022-04-24 18:26:30,976 - utils - NumExpr defaulting to 8 threads.\n",
      "Using backend: pytorch\n"
     ]
    }
   ],
   "source": [
    "import sys\n",
    "import os\n",
    "import numpy as np\n",
    "from matplotlib import pyplot as plt\n",
    "import torch\n",
    "sys.path.append(os.path.join('../',os.path.dirname(os.path.abspath(''))))\n",
    "from utils import load_checkpoint, save_checkpoint\n",
    "from train_utils import visualize_pointcloud \n",
    "from upsampling_network import SRNet\n",
    "from analysis_helper import load_pos\n",
    "import os\n",
    "import time\n",
    "import collections"
   ]
  },
  {
   "cell_type": "markdown",
   "id": "1d2be1c9-b28f-46f7-be8d-63b4ab951526",
   "metadata": {},
   "source": [
    "### Upsample coarse-grained simulation"
   ]
  },
  {
   "cell_type": "code",
   "execution_count": 2,
   "id": "8efa7057-42ab-481d-af4d-3cf370b18a25",
   "metadata": {},
   "outputs": [],
   "source": [
    "from analysis_helper import write_bgeo_from_numpy\n",
    "import time\n",
    "\n",
    "def normalize_point_cloud(pcd_pos):\n",
    "    centroid = np.mean(pcd_pos, axis=0, keepdims=True)\n",
    "    input_pos = pcd_pos - centroid\n",
    "    furthest_distance = np.float32(1.)\n",
    "    input_pos /= furthest_distance\n",
    "    return input_pos, centroid, furthest_distance"
   ]
  },
  {
   "cell_type": "code",
   "execution_count": 3,
   "id": "b4ce6428-312c-4898-b143-1bdc781eba5f",
   "metadata": {},
   "outputs": [
    {
     "name": "stdout",
     "output_type": "stream",
     "text": [
      " [*] Loading checkpoint from ./train_vel/tpugan_vel_checkpoint.ckpt succeed!\n",
      "last checkpoint restored\n",
      "Used :534.9671199321747\n"
     ]
    }
   ],
   "source": [
    "# use velocity\n",
    "path_to_resume = './train_vel/tpugan_vel_checkpoint.ckpt'\n",
    "ckpt = load_checkpoint(path_to_resume)  # custom method for loading last checkpoint\n",
    "net = SRNet(in_feats=6,\n",
    "             node_emb_dim=128)\n",
    "net.load_state_dict(ckpt['sr_net'])\n",
    "print(\"last checkpoint restored\")\n",
    "net = net.cuda()\n",
    "net = net.eval()\n",
    "\n",
    "out_dir = './bunny_demo'\n",
    "os.makedirs(out_dir, exist_ok=True)\n",
    "mask_lst = []\n",
    "start_time = time.time()\n",
    "for i in range(800):\n",
    "    input_data = np.load(f'../data/bunny/data_{i}.npz')\n",
    "    lowres_input = input_data['pos']\n",
    "    lowres_vel = input_data['vel']\n",
    "    with torch.no_grad():\n",
    "        lowres_input, centroid, h = normalize_point_cloud(lowres_input)\n",
    "        lowres_input = torch.from_numpy(lowres_input).cuda().unsqueeze(0)\n",
    "        lowres_vel = torch.from_numpy(lowres_vel).cuda().unsqueeze(0)\n",
    "\n",
    "        feature = torch.cat([lowres_input, lowres_vel*0.025],dim=2)\n",
    "        refined_pos, mask_lst = net.forward_with_context(feature, lowres_input, mask_lst)\n",
    "        refined_pos = refined_pos[0].cpu().numpy()\n",
    "        refined_pos *= h\n",
    "        refined_pos += centroid\n",
    "        torch.cuda.empty_cache()\n",
    "        # visualize_pointcloud(refined_pos)\n",
    "    npy_pth = os.path.join(out_dir, f'pcd_{i}.npy')\n",
    "    np.save(npy_pth,  refined_pos)\n",
    "\n",
    "    \n",
    "end_time = time.time()\n",
    "used_time = end_time - start_time\n",
    "print(f'Used :{used_time}')"
   ]
  },
  {
   "cell_type": "code",
   "execution_count": 8,
   "id": "93ce5ab0-8f8e-4686-91bd-856632f72f39",
   "metadata": {},
   "outputs": [
    {
     "name": "stdout",
     "output_type": "stream",
     "text": [
      " [*] Loading checkpoint from ./train_novel/tpugan_novel_checkpoint.ckpt succeed!\n",
      "last checkpoint restored\n",
      "Used :531.0246877670288\n"
     ]
    }
   ],
   "source": [
    "# not use velocity\n",
    "path_to_resume = './train_novel/tpugan_novel_checkpoint.ckpt'\n",
    "ckpt = load_checkpoint(path_to_resume)  # custom method for loading last checkpoint\n",
    "net = SRNet(in_feats=3,\n",
    "             node_emb_dim=128)\n",
    "net.load_state_dict(ckpt['sr_net'])\n",
    "print(\"last checkpoint restored\")\n",
    "net = net.cuda()\n",
    "net = net.eval()\n",
    "\n",
    "out_dir = './bunny_demo_no_vel'\n",
    "os.makedirs(out_dir, exist_ok=True)\n",
    "mask_lst = []\n",
    "start_time = time.time()\n",
    "for i in range(800):\n",
    "    input_data = np.load(f'../data/bunny/data_{i}.npz')\n",
    "    lowres_input = input_data['pos']\n",
    "    with torch.no_grad():\n",
    "        lowres_input, centroid, h = normalize_point_cloud(lowres_input)\n",
    "        lowres_input = torch.from_numpy(lowres_input).cuda().unsqueeze(0)\n",
    "\n",
    "        feature = lowres_input\n",
    "        refined_pos, mask_lst = net.forward_with_context(feature, lowres_input, mask_lst)\n",
    "        refined_pos = refined_pos[0].cpu().numpy()\n",
    "        refined_pos *= h\n",
    "        refined_pos += centroid\n",
    "        torch.cuda.empty_cache()\n",
    "    npy_pth = os.path.join(out_dir, f'pcd_{i}.npy')\n",
    "    np.save(npy_pth,  refined_pos)\n",
    "    \n",
    "end_time = time.time()\n",
    "used_time = end_time - start_time\n",
    "print(f'Used :{used_time}')"
   ]
  },
  {
   "cell_type": "markdown",
   "id": "75be85f4-2912-4760-8a30-7ad15b180884",
   "metadata": {},
   "source": [
    "### Write the data as .bgeo for visualization/rendering\n",
    "(requires installing partio: https://github.com/wdas/partio)"
   ]
  },
  {
   "cell_type": "code",
   "execution_count": 2,
   "id": "69f6dff2-b210-4dc6-9c09-783f7fa66629",
   "metadata": {},
   "outputs": [],
   "source": [
    "import numpy as np\n",
    "import os\n",
    "from analysis_helper import write_bgeo_from_numpy\n",
    "\n",
    "out_dir = './bunny_demo_no_vel'\n",
    "for i in range(800):\n",
    "    pos_np = np.load(f'./bunny_demo_no_vel/pcd_{i}.npy')\n",
    "    bgeo_pth = os.path.join(out_dir, 'pcd_{0:04d}.bgeo'.format(i))\n",
    "    write_bgeo_from_numpy(bgeo_pth, pos_np)"
   ]
  },
  {
   "cell_type": "code",
   "execution_count": null,
   "id": "4626f175-275d-4d68-a389-aaeb93f0f65d",
   "metadata": {},
   "outputs": [],
   "source": []
  }
 ],
 "metadata": {
  "kernelspec": {
   "display_name": "Python 3 (ipykernel)",
   "language": "python",
   "name": "python3"
  },
  "language_info": {
   "codemirror_mode": {
    "name": "ipython",
    "version": 3
   },
   "file_extension": ".py",
   "mimetype": "text/x-python",
   "name": "python",
   "nbconvert_exporter": "python",
   "pygments_lexer": "ipython3",
   "version": "3.7.12"
  }
 },
 "nbformat": 4,
 "nbformat_minor": 5
}
